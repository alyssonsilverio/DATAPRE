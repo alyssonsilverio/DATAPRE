{
 "cells": [
  {
   "cell_type": "markdown",
   "id": "d156cc5e",
   "metadata": {},
   "source": [
    "#### A Technical Report Presented to the Faculty of the College of Computer Studies\n",
    "#### De La Salle University - Manila\n",
    "\n",
    "**by:**\n",
    "  - Chavez, Gabriel\n",
    "  - Alfonso Miguel M. Cuevas\n",
    "  - Silverio, Gwyneth Patricia Alysson\n",
    "\n",
    "**Professor:**\n",
    "  - Earl Abraham\n",
    "\n"
   ]
  },
  {
   "cell_type": "markdown",
   "id": "bb690921",
   "metadata": {},
   "source": [
    "# Introduction\n",
    "\n",
    "Stroke is one of the deadliest diseases in the world (Pietrangelo, 2019). It is so deadly, that an article by the World Health Organization shows that stroke was the second leading cause of death in the world back in 2020. Despite being a preventable and treatable decease, it is still a primary cause of mortality and substantial disability in adults especially in the United States (CDC, 2022). Stroke occurs when a blood vessel that supplies the brain with oxygen and nutrients become blocked by a clot or ruptures. When this blocking of the blood flow to the brain happens, a portion of the brain that requires the blocked blood and oxygen dies (About stroke, n.d). \n",
    "\n",
    "Stroke is a sudden attack -- it can happen in as little as 15 minutes. Stroke occurs so suddenly that ten million individuals around the world die from them or become disabled by them every year (Tuan, 2021). It is such a sudden and deadly disease that ischemic stroke patients lose two million brain cells every minute until the blood resumes the flow into the brain. This is the reason why taking a predictive approach in preventing stroke is necessary, if we had a tool that could predict stroke, according to a Harvard Medical Study (Stroke: Every minute counts 2013), when the treatment was accelerated by 15 minutes there is a:\n",
    "\n",
    "- 4% lower risk of in-hospital death\n",
    "- 4% better odds of walking independently after leaving the hospital\n",
    "- 3% better odds of being sent home instead of to an institution\n",
    "- 4% lower odds of a brain hemorrhage.\n",
    "\n",
    "The development of machine learning and artificial intelligence with good data is essential to produce a model that can predict stroke accurately. The aim of writing this technical report is to create a prediction system with the use of machine learning and data processing. The system will take into consideration the different features such as a subject's body mass index, gender, age, and other information that could affect the chances of said subject having stroke. This prediction system can help those who are likely to have stroke by perhaps giving them a chance to have a change of lifestyle after seeing the prediction made by the system. It can also lead them to seek professional help earlier which can lower the risks that you get from this deadly disease. "
   ]
  },
  {
   "cell_type": "markdown",
   "id": "4b0c4271",
   "metadata": {},
   "source": [
    "# Research Questions"
   ]
  },
  {
   "cell_type": "markdown",
   "id": "18f1261a",
   "metadata": {},
   "source": [
    "- 1. What is the relationship between history of heart disease and strokes?\n",
    "- 2. What is the relationship between smoking and strokes?\n",
    "- 3. What is the relationship between age and strokes?\n",
    "- 4. What is the likelihood of being able to predict a stroke given several factors?"
   ]
  },
  {
   "cell_type": "markdown",
   "id": "6f086756",
   "metadata": {},
   "source": [
    "# Stroke Prediction Dataset\n",
    "\n",
    "This dataset was taken from Kaggle. \n",
    "It was uploaded by a user named FEDESORIANO, and it was last updated a year ago. \n",
    "\n",
    "Link to the dataset: https://www.kaggle.com/datasets/fedesoriano/stroke-prediction-dataset?fbclid=IwAR2TTi2gR422LMtzEEE9pIJ81jdQTc-_N4MRauqNdMfnumDUeZgO2P-Viss\n",
    "\n",
    "This dataset comprises details on predicting if the a patient would get likely get a stroke based on specifications such as age, gender, various diseases and smoking status. It contains 11 contains 11 clinical features and a total of 5110 observations which is broken down in the segment below.\n",
    "\n",
    "\n",
    "**Features:**\n",
    "  - id: A unique Identifier for each observation\n",
    "  - gender: \"Male\", \"Female\" or \"Other\"\n",
    "  - age: Age of the patient\n",
    "  - ever_married: \"No\" or \"Yes\"\n",
    "  - work_type: \"children\", \"Govt_jov\", \"Never_worked\", \"Private\" or \"Self-employed\"\n",
    "  - Residence_type: \"Rural\" or \"Urban\"\n",
    "\n",
    "**Labels:**\n",
    "  - hypertension: 0 if the patient doesn't have hypertension, 1 if the patient has hypertension\n",
    "  - heart_disease: 0 if the patient doesn't have any heart diseases, 1 if the patient has a heart disease\n",
    "  - avg_glucose_level: average glucose level in blood\n",
    "  - bmi: body mass index\n",
    "  - smoking_status: \"formerly smoked\", \"never smoked\", \"smokes\" or \"Unknown\"*\n",
    "  - stroke: 1 if the patient had a stroke or 0 if not\n",
    "\n",
    "*Note: \"Unknown\" in smoking_status means that the information is unavailable for this patient\n",
    "\n",
    "**Class Distribution**\n",
    "\n",
    "1. Gender: \n",
    "  - 59% Female\n",
    "  - 41% Male\n",
    "\n",
    "\n",
    "2. Age: \n",
    "  - 0.08 - 8.27 = 434\n",
    "  - 8.27 - 16.46 = 362\n",
    "  - 16.46 - 24.66 = 440\n",
    "  - 24.66 - 32.85 = 484\n",
    "  - 32.85 - 41.04 = 597\n",
    "  - 41.04 - 49.23 = 583\n",
    "  - 49.23 - 57.42 = 686\n",
    "  - 57.42 - 65.62 = 559\n",
    "  - 65.62 - 73.81 = 407\n",
    "  - 73.81 - 82.00 = 558\n",
    "\t\t\n",
    "        \n",
    "3. Hypertension: \n",
    "  - 0 = 4612\n",
    "  - 1 = 498\n",
    "           \n",
    "           \n",
    "4. Heart Disease: \n",
    "  - 0 = 4834\n",
    "  - 1 = 276\n",
    "               \n",
    "               \n",
    "5. Ever Married: \n",
    "  - false = 34.4%\n",
    "  - true = 65.6%\n",
    "              \n",
    "              \n",
    "6. Work Type:  \n",
    "  - Private = 57%\n",
    "  - Self Employed = 16%\n",
    "  - Other = 27%\n",
    "              \n",
    "              \n",
    "7. Residence Type: \n",
    "  - Urban = 51%\n",
    "  - Rural  = 49%\n",
    "           \n",
    "           \n",
    "8. Average Glucose Level: \n",
    "  - 55.12 - 76.78 = 1250\n",
    "  - 76.78 - 98.44 = 1790\n",
    "  - 98.44 - 120.11 = 956\n",
    "  - 120.11 - 141.77 = 310\n",
    "  - 141.77 - 163.43 = 154\n",
    "  - 163.42 - 185. 09 = 91\n",
    "  - 185.09 - 206.75 = 209\n",
    "  - 206.75 - 228.42 = 217\n",
    "  - 228.42 - 250.08 = 108\n",
    "  - 250.08 - 271.74 = 25\n",
    "              \n",
    "              \n",
    "9. BMI: \n",
    "  - N/A = 4%\n",
    "  - 28.7 = 1%\n",
    "  - Others = 95%\n",
    "        \n",
    "        \n",
    "10. Smoking Status: \n",
    "  - Never Smoked  = 37%\n",
    "  - Unknown  = 30%\n",
    "  - Others = 33%\n",
    "        \n",
    "        \n",
    "11. Stroke: \n",
    "  - 0 = 4861\n",
    "  - 1 = 249"
   ]
  },
  {
   "cell_type": "markdown",
   "id": "8f229a6c",
   "metadata": {},
   "source": [
    "# Methodology"
   ]
  },
  {
   "cell_type": "markdown",
   "id": "5a6d7fde",
   "metadata": {},
   "source": [
    "## Import"
   ]
  },
  {
   "cell_type": "code",
   "execution_count": 1,
   "id": "521227f6",
   "metadata": {},
   "outputs": [],
   "source": [
    "import numpy as np \n",
    "import pandas as pd\n",
    "\n",
    "import seaborn as sns\n",
    "import matplotlib.pyplot as plt\n",
    "plt.style.use('ggplot')\n",
    "\n",
    "from sklearn.model_selection import train_test_split\n",
    "\n",
    "from sklearn.linear_model import LogisticRegression\n",
    "\n",
    "from sklearn.metrics import classification_report, confusion_matrix\n",
    "\n",
    "np.random.seed(1)\n",
    "%load_ext autoreload\n",
    "%autoreload 2"
   ]
  },
  {
   "cell_type": "markdown",
   "id": "650b6a09",
   "metadata": {},
   "source": [
    "## Data analysis"
   ]
  },
  {
   "cell_type": "markdown",
   "id": "a0d1518c",
   "metadata": {},
   "source": [
    "#### Load csv file into a pandas dataframe"
   ]
  },
  {
   "cell_type": "code",
   "execution_count": 2,
   "id": "72a0b131",
   "metadata": {},
   "outputs": [
    {
     "data": {
      "text/html": [
       "<div>\n",
       "<style scoped>\n",
       "    .dataframe tbody tr th:only-of-type {\n",
       "        vertical-align: middle;\n",
       "    }\n",
       "\n",
       "    .dataframe tbody tr th {\n",
       "        vertical-align: top;\n",
       "    }\n",
       "\n",
       "    .dataframe thead th {\n",
       "        text-align: right;\n",
       "    }\n",
       "</style>\n",
       "<table border=\"1\" class=\"dataframe\">\n",
       "  <thead>\n",
       "    <tr style=\"text-align: right;\">\n",
       "      <th></th>\n",
       "      <th>id</th>\n",
       "      <th>gender</th>\n",
       "      <th>age</th>\n",
       "      <th>hypertension</th>\n",
       "      <th>heart_disease</th>\n",
       "      <th>ever_married</th>\n",
       "      <th>work_type</th>\n",
       "      <th>Residence_type</th>\n",
       "      <th>avg_glucose_level</th>\n",
       "      <th>bmi</th>\n",
       "      <th>smoking_status</th>\n",
       "      <th>stroke</th>\n",
       "    </tr>\n",
       "  </thead>\n",
       "  <tbody>\n",
       "    <tr>\n",
       "      <th>0</th>\n",
       "      <td>9046</td>\n",
       "      <td>Male</td>\n",
       "      <td>67.0</td>\n",
       "      <td>0</td>\n",
       "      <td>1</td>\n",
       "      <td>Yes</td>\n",
       "      <td>Private</td>\n",
       "      <td>Urban</td>\n",
       "      <td>228.69</td>\n",
       "      <td>36.6</td>\n",
       "      <td>formerly smoked</td>\n",
       "      <td>1</td>\n",
       "    </tr>\n",
       "    <tr>\n",
       "      <th>1</th>\n",
       "      <td>51676</td>\n",
       "      <td>Female</td>\n",
       "      <td>61.0</td>\n",
       "      <td>0</td>\n",
       "      <td>0</td>\n",
       "      <td>Yes</td>\n",
       "      <td>Self-employed</td>\n",
       "      <td>Rural</td>\n",
       "      <td>202.21</td>\n",
       "      <td>NaN</td>\n",
       "      <td>never smoked</td>\n",
       "      <td>1</td>\n",
       "    </tr>\n",
       "    <tr>\n",
       "      <th>2</th>\n",
       "      <td>31112</td>\n",
       "      <td>Male</td>\n",
       "      <td>80.0</td>\n",
       "      <td>0</td>\n",
       "      <td>1</td>\n",
       "      <td>Yes</td>\n",
       "      <td>Private</td>\n",
       "      <td>Rural</td>\n",
       "      <td>105.92</td>\n",
       "      <td>32.5</td>\n",
       "      <td>never smoked</td>\n",
       "      <td>1</td>\n",
       "    </tr>\n",
       "    <tr>\n",
       "      <th>3</th>\n",
       "      <td>60182</td>\n",
       "      <td>Female</td>\n",
       "      <td>49.0</td>\n",
       "      <td>0</td>\n",
       "      <td>0</td>\n",
       "      <td>Yes</td>\n",
       "      <td>Private</td>\n",
       "      <td>Urban</td>\n",
       "      <td>171.23</td>\n",
       "      <td>34.4</td>\n",
       "      <td>smokes</td>\n",
       "      <td>1</td>\n",
       "    </tr>\n",
       "    <tr>\n",
       "      <th>4</th>\n",
       "      <td>1665</td>\n",
       "      <td>Female</td>\n",
       "      <td>79.0</td>\n",
       "      <td>1</td>\n",
       "      <td>0</td>\n",
       "      <td>Yes</td>\n",
       "      <td>Self-employed</td>\n",
       "      <td>Rural</td>\n",
       "      <td>174.12</td>\n",
       "      <td>24.0</td>\n",
       "      <td>never smoked</td>\n",
       "      <td>1</td>\n",
       "    </tr>\n",
       "    <tr>\n",
       "      <th>...</th>\n",
       "      <td>...</td>\n",
       "      <td>...</td>\n",
       "      <td>...</td>\n",
       "      <td>...</td>\n",
       "      <td>...</td>\n",
       "      <td>...</td>\n",
       "      <td>...</td>\n",
       "      <td>...</td>\n",
       "      <td>...</td>\n",
       "      <td>...</td>\n",
       "      <td>...</td>\n",
       "      <td>...</td>\n",
       "    </tr>\n",
       "    <tr>\n",
       "      <th>5105</th>\n",
       "      <td>18234</td>\n",
       "      <td>Female</td>\n",
       "      <td>80.0</td>\n",
       "      <td>1</td>\n",
       "      <td>0</td>\n",
       "      <td>Yes</td>\n",
       "      <td>Private</td>\n",
       "      <td>Urban</td>\n",
       "      <td>83.75</td>\n",
       "      <td>NaN</td>\n",
       "      <td>never smoked</td>\n",
       "      <td>0</td>\n",
       "    </tr>\n",
       "    <tr>\n",
       "      <th>5106</th>\n",
       "      <td>44873</td>\n",
       "      <td>Female</td>\n",
       "      <td>81.0</td>\n",
       "      <td>0</td>\n",
       "      <td>0</td>\n",
       "      <td>Yes</td>\n",
       "      <td>Self-employed</td>\n",
       "      <td>Urban</td>\n",
       "      <td>125.20</td>\n",
       "      <td>40.0</td>\n",
       "      <td>never smoked</td>\n",
       "      <td>0</td>\n",
       "    </tr>\n",
       "    <tr>\n",
       "      <th>5107</th>\n",
       "      <td>19723</td>\n",
       "      <td>Female</td>\n",
       "      <td>35.0</td>\n",
       "      <td>0</td>\n",
       "      <td>0</td>\n",
       "      <td>Yes</td>\n",
       "      <td>Self-employed</td>\n",
       "      <td>Rural</td>\n",
       "      <td>82.99</td>\n",
       "      <td>30.6</td>\n",
       "      <td>never smoked</td>\n",
       "      <td>0</td>\n",
       "    </tr>\n",
       "    <tr>\n",
       "      <th>5108</th>\n",
       "      <td>37544</td>\n",
       "      <td>Male</td>\n",
       "      <td>51.0</td>\n",
       "      <td>0</td>\n",
       "      <td>0</td>\n",
       "      <td>Yes</td>\n",
       "      <td>Private</td>\n",
       "      <td>Rural</td>\n",
       "      <td>166.29</td>\n",
       "      <td>25.6</td>\n",
       "      <td>formerly smoked</td>\n",
       "      <td>0</td>\n",
       "    </tr>\n",
       "    <tr>\n",
       "      <th>5109</th>\n",
       "      <td>44679</td>\n",
       "      <td>Female</td>\n",
       "      <td>44.0</td>\n",
       "      <td>0</td>\n",
       "      <td>0</td>\n",
       "      <td>Yes</td>\n",
       "      <td>Govt_job</td>\n",
       "      <td>Urban</td>\n",
       "      <td>85.28</td>\n",
       "      <td>26.2</td>\n",
       "      <td>Unknown</td>\n",
       "      <td>0</td>\n",
       "    </tr>\n",
       "  </tbody>\n",
       "</table>\n",
       "<p>5110 rows × 12 columns</p>\n",
       "</div>"
      ],
      "text/plain": [
       "         id  gender   age  hypertension  heart_disease ever_married  \\\n",
       "0      9046    Male  67.0             0              1          Yes   \n",
       "1     51676  Female  61.0             0              0          Yes   \n",
       "2     31112    Male  80.0             0              1          Yes   \n",
       "3     60182  Female  49.0             0              0          Yes   \n",
       "4      1665  Female  79.0             1              0          Yes   \n",
       "...     ...     ...   ...           ...            ...          ...   \n",
       "5105  18234  Female  80.0             1              0          Yes   \n",
       "5106  44873  Female  81.0             0              0          Yes   \n",
       "5107  19723  Female  35.0             0              0          Yes   \n",
       "5108  37544    Male  51.0             0              0          Yes   \n",
       "5109  44679  Female  44.0             0              0          Yes   \n",
       "\n",
       "          work_type Residence_type  avg_glucose_level   bmi   smoking_status  \\\n",
       "0           Private          Urban             228.69  36.6  formerly smoked   \n",
       "1     Self-employed          Rural             202.21   NaN     never smoked   \n",
       "2           Private          Rural             105.92  32.5     never smoked   \n",
       "3           Private          Urban             171.23  34.4           smokes   \n",
       "4     Self-employed          Rural             174.12  24.0     never smoked   \n",
       "...             ...            ...                ...   ...              ...   \n",
       "5105        Private          Urban              83.75   NaN     never smoked   \n",
       "5106  Self-employed          Urban             125.20  40.0     never smoked   \n",
       "5107  Self-employed          Rural              82.99  30.6     never smoked   \n",
       "5108        Private          Rural             166.29  25.6  formerly smoked   \n",
       "5109       Govt_job          Urban              85.28  26.2          Unknown   \n",
       "\n",
       "      stroke  \n",
       "0          1  \n",
       "1          1  \n",
       "2          1  \n",
       "3          1  \n",
       "4          1  \n",
       "...      ...  \n",
       "5105       0  \n",
       "5106       0  \n",
       "5107       0  \n",
       "5108       0  \n",
       "5109       0  \n",
       "\n",
       "[5110 rows x 12 columns]"
      ]
     },
     "execution_count": 2,
     "metadata": {},
     "output_type": "execute_result"
    }
   ],
   "source": [
    "df = pd.read_csv('healthcare-dataset-stroke-data.csv')\n",
    "df"
   ]
  },
  {
   "cell_type": "markdown",
   "id": "6b9b7c77",
   "metadata": {},
   "source": [
    "#### Shape of the dataset (number of rows and columns)"
   ]
  },
  {
   "cell_type": "code",
   "execution_count": 3,
   "id": "76d8c68e",
   "metadata": {},
   "outputs": [
    {
     "data": {
      "text/plain": [
       "(5110, 12)"
      ]
     },
     "execution_count": 3,
     "metadata": {},
     "output_type": "execute_result"
    }
   ],
   "source": [
    "df.shape"
   ]
  },
  {
   "cell_type": "markdown",
   "id": "b3dc791b",
   "metadata": {},
   "source": [
    "- The dataset contains 5110 attributes and 12 columns."
   ]
  },
  {
   "cell_type": "markdown",
   "id": "2ae2100f",
   "metadata": {},
   "source": [
    "#### Overall information of dataset"
   ]
  },
  {
   "cell_type": "code",
   "execution_count": 4,
   "id": "4e1aa8e0",
   "metadata": {},
   "outputs": [
    {
     "name": "stdout",
     "output_type": "stream",
     "text": [
      "<class 'pandas.core.frame.DataFrame'>\n",
      "RangeIndex: 5110 entries, 0 to 5109\n",
      "Data columns (total 12 columns):\n",
      " #   Column             Non-Null Count  Dtype  \n",
      "---  ------             --------------  -----  \n",
      " 0   id                 5110 non-null   int64  \n",
      " 1   gender             5110 non-null   object \n",
      " 2   age                5110 non-null   float64\n",
      " 3   hypertension       5110 non-null   int64  \n",
      " 4   heart_disease      5110 non-null   int64  \n",
      " 5   ever_married       5110 non-null   object \n",
      " 6   work_type          5110 non-null   object \n",
      " 7   Residence_type     5110 non-null   object \n",
      " 8   avg_glucose_level  5110 non-null   float64\n",
      " 9   bmi                4909 non-null   float64\n",
      " 10  smoking_status     5110 non-null   object \n",
      " 11  stroke             5110 non-null   int64  \n",
      "dtypes: float64(3), int64(4), object(5)\n",
      "memory usage: 479.2+ KB\n"
     ]
    }
   ],
   "source": [
    "df.info()"
   ]
  },
  {
   "cell_type": "markdown",
   "id": "e918261f",
   "metadata": {},
   "source": [
    "#### Descriptive statistics of the dataset"
   ]
  },
  {
   "cell_type": "code",
   "execution_count": 5,
   "id": "055eda4e",
   "metadata": {},
   "outputs": [
    {
     "data": {
      "text/html": [
       "<div>\n",
       "<style scoped>\n",
       "    .dataframe tbody tr th:only-of-type {\n",
       "        vertical-align: middle;\n",
       "    }\n",
       "\n",
       "    .dataframe tbody tr th {\n",
       "        vertical-align: top;\n",
       "    }\n",
       "\n",
       "    .dataframe thead th {\n",
       "        text-align: right;\n",
       "    }\n",
       "</style>\n",
       "<table border=\"1\" class=\"dataframe\">\n",
       "  <thead>\n",
       "    <tr style=\"text-align: right;\">\n",
       "      <th></th>\n",
       "      <th>id</th>\n",
       "      <th>age</th>\n",
       "      <th>hypertension</th>\n",
       "      <th>heart_disease</th>\n",
       "      <th>avg_glucose_level</th>\n",
       "      <th>bmi</th>\n",
       "      <th>stroke</th>\n",
       "    </tr>\n",
       "  </thead>\n",
       "  <tbody>\n",
       "    <tr>\n",
       "      <th>count</th>\n",
       "      <td>5110.000000</td>\n",
       "      <td>5110.000000</td>\n",
       "      <td>5110.000000</td>\n",
       "      <td>5110.000000</td>\n",
       "      <td>5110.000000</td>\n",
       "      <td>4909.000000</td>\n",
       "      <td>5110.000000</td>\n",
       "    </tr>\n",
       "    <tr>\n",
       "      <th>mean</th>\n",
       "      <td>36517.829354</td>\n",
       "      <td>43.226614</td>\n",
       "      <td>0.097456</td>\n",
       "      <td>0.054012</td>\n",
       "      <td>106.147677</td>\n",
       "      <td>28.893237</td>\n",
       "      <td>0.048728</td>\n",
       "    </tr>\n",
       "    <tr>\n",
       "      <th>std</th>\n",
       "      <td>21161.721625</td>\n",
       "      <td>22.612647</td>\n",
       "      <td>0.296607</td>\n",
       "      <td>0.226063</td>\n",
       "      <td>45.283560</td>\n",
       "      <td>7.854067</td>\n",
       "      <td>0.215320</td>\n",
       "    </tr>\n",
       "    <tr>\n",
       "      <th>min</th>\n",
       "      <td>67.000000</td>\n",
       "      <td>0.080000</td>\n",
       "      <td>0.000000</td>\n",
       "      <td>0.000000</td>\n",
       "      <td>55.120000</td>\n",
       "      <td>10.300000</td>\n",
       "      <td>0.000000</td>\n",
       "    </tr>\n",
       "    <tr>\n",
       "      <th>25%</th>\n",
       "      <td>17741.250000</td>\n",
       "      <td>25.000000</td>\n",
       "      <td>0.000000</td>\n",
       "      <td>0.000000</td>\n",
       "      <td>77.245000</td>\n",
       "      <td>23.500000</td>\n",
       "      <td>0.000000</td>\n",
       "    </tr>\n",
       "    <tr>\n",
       "      <th>50%</th>\n",
       "      <td>36932.000000</td>\n",
       "      <td>45.000000</td>\n",
       "      <td>0.000000</td>\n",
       "      <td>0.000000</td>\n",
       "      <td>91.885000</td>\n",
       "      <td>28.100000</td>\n",
       "      <td>0.000000</td>\n",
       "    </tr>\n",
       "    <tr>\n",
       "      <th>75%</th>\n",
       "      <td>54682.000000</td>\n",
       "      <td>61.000000</td>\n",
       "      <td>0.000000</td>\n",
       "      <td>0.000000</td>\n",
       "      <td>114.090000</td>\n",
       "      <td>33.100000</td>\n",
       "      <td>0.000000</td>\n",
       "    </tr>\n",
       "    <tr>\n",
       "      <th>max</th>\n",
       "      <td>72940.000000</td>\n",
       "      <td>82.000000</td>\n",
       "      <td>1.000000</td>\n",
       "      <td>1.000000</td>\n",
       "      <td>271.740000</td>\n",
       "      <td>97.600000</td>\n",
       "      <td>1.000000</td>\n",
       "    </tr>\n",
       "  </tbody>\n",
       "</table>\n",
       "</div>"
      ],
      "text/plain": [
       "                 id          age  hypertension  heart_disease  \\\n",
       "count   5110.000000  5110.000000   5110.000000    5110.000000   \n",
       "mean   36517.829354    43.226614      0.097456       0.054012   \n",
       "std    21161.721625    22.612647      0.296607       0.226063   \n",
       "min       67.000000     0.080000      0.000000       0.000000   \n",
       "25%    17741.250000    25.000000      0.000000       0.000000   \n",
       "50%    36932.000000    45.000000      0.000000       0.000000   \n",
       "75%    54682.000000    61.000000      0.000000       0.000000   \n",
       "max    72940.000000    82.000000      1.000000       1.000000   \n",
       "\n",
       "       avg_glucose_level          bmi       stroke  \n",
       "count        5110.000000  4909.000000  5110.000000  \n",
       "mean          106.147677    28.893237     0.048728  \n",
       "std            45.283560     7.854067     0.215320  \n",
       "min            55.120000    10.300000     0.000000  \n",
       "25%            77.245000    23.500000     0.000000  \n",
       "50%            91.885000    28.100000     0.000000  \n",
       "75%           114.090000    33.100000     0.000000  \n",
       "max           271.740000    97.600000     1.000000  "
      ]
     },
     "execution_count": 5,
     "metadata": {},
     "output_type": "execute_result"
    }
   ],
   "source": [
    "df.describe()"
   ]
  },
  {
   "cell_type": "markdown",
   "id": "fa22a378",
   "metadata": {},
   "source": [
    "## Data preprocessing/cleaning"
   ]
  },
  {
   "cell_type": "markdown",
   "id": "c7a03406",
   "metadata": {},
   "source": [
    "#### Check for any null/missing values in the dataset"
   ]
  },
  {
   "cell_type": "code",
   "execution_count": 6,
   "id": "21fa258a",
   "metadata": {},
   "outputs": [
    {
     "data": {
      "text/plain": [
       "id                     0\n",
       "gender                 0\n",
       "age                    0\n",
       "hypertension           0\n",
       "heart_disease          0\n",
       "ever_married           0\n",
       "work_type              0\n",
       "Residence_type         0\n",
       "avg_glucose_level      0\n",
       "bmi                  201\n",
       "smoking_status         0\n",
       "stroke                 0\n",
       "dtype: int64"
      ]
     },
     "execution_count": 6,
     "metadata": {},
     "output_type": "execute_result"
    }
   ],
   "source": [
    "df.isna().sum()"
   ]
  },
  {
   "cell_type": "markdown",
   "id": "718143e2",
   "metadata": {},
   "source": [
    "- There is a total of 201 null/missing values in the BMI column."
   ]
  },
  {
   "cell_type": "markdown",
   "id": "deeb2c46",
   "metadata": {},
   "source": [
    "#### Dropping the rows where there are null/missing values in the dataset"
   ]
  },
  {
   "cell_type": "code",
   "execution_count": 7,
   "id": "4ce889e7",
   "metadata": {},
   "outputs": [
    {
     "name": "stdout",
     "output_type": "stream",
     "text": [
      "<class 'pandas.core.frame.DataFrame'>\n",
      "Int64Index: 4909 entries, 0 to 5109\n",
      "Data columns (total 12 columns):\n",
      " #   Column             Non-Null Count  Dtype  \n",
      "---  ------             --------------  -----  \n",
      " 0   id                 4909 non-null   int64  \n",
      " 1   gender             4909 non-null   object \n",
      " 2   age                4909 non-null   float64\n",
      " 3   hypertension       4909 non-null   int64  \n",
      " 4   heart_disease      4909 non-null   int64  \n",
      " 5   ever_married       4909 non-null   object \n",
      " 6   work_type          4909 non-null   object \n",
      " 7   Residence_type     4909 non-null   object \n",
      " 8   avg_glucose_level  4909 non-null   float64\n",
      " 9   bmi                4909 non-null   float64\n",
      " 10  smoking_status     4909 non-null   object \n",
      " 11  stroke             4909 non-null   int64  \n",
      "dtypes: float64(3), int64(4), object(5)\n",
      "memory usage: 498.6+ KB\n"
     ]
    }
   ],
   "source": [
    "df = df.dropna()\n",
    "df.info()"
   ]
  },
  {
   "cell_type": "markdown",
   "id": "c9a0dfbd",
   "metadata": {},
   "source": [
    "- Since only less than 5% of rows in the dataset contains null/missing values, it is okay to drop them."
   ]
  },
  {
   "cell_type": "markdown",
   "id": "fc1c93c6",
   "metadata": {},
   "source": [
    "#### Checking the new shape of the dataset"
   ]
  },
  {
   "cell_type": "code",
   "execution_count": 8,
   "id": "1f79179c",
   "metadata": {},
   "outputs": [
    {
     "data": {
      "text/plain": [
       "(4909, 12)"
      ]
     },
     "execution_count": 8,
     "metadata": {},
     "output_type": "execute_result"
    }
   ],
   "source": [
    "df.shape"
   ]
  },
  {
   "cell_type": "markdown",
   "id": "34f10f3a",
   "metadata": {},
   "source": [
    "#### Encoding categorical values\n",
    "1. gender\n",
    "    * 0: Male\n",
    "    * 1: Female\n",
    "    * 2: Other\n",
    "    \n",
    "    \n",
    "2. ever_married\n",
    "    * 0: No\n",
    "    * 1: Yes\n",
    "\n",
    "\n",
    "3. work_type\n",
    "    * children: 0\n",
    "    * Govt_job: 1\n",
    "    * Never_worked: 2\n",
    "    * Private: 3\n",
    "    * Self-employed: 4\n",
    "\n",
    "\n",
    "4. resident_type\n",
    "    * Rural: 0\n",
    "    * Urban: 1\n",
    "\n",
    "\n",
    "5. smoking_status\n",
    "    * formerly smoked: 0\n",
    "    * never smoked: 1\n",
    "    * smokes: 2\n",
    "    * Unknown: 3"
   ]
  },
  {
   "cell_type": "code",
   "execution_count": 9,
   "id": "154ff003",
   "metadata": {},
   "outputs": [
    {
     "name": "stderr",
     "output_type": "stream",
     "text": [
      "C:\\Users\\alyss\\anaconda3\\lib\\site-packages\\pandas\\core\\generic.py:6619: SettingWithCopyWarning: \n",
      "A value is trying to be set on a copy of a slice from a DataFrame\n",
      "\n",
      "See the caveats in the documentation: https://pandas.pydata.org/pandas-docs/stable/user_guide/indexing.html#returning-a-view-versus-a-copy\n",
      "  return self._update_inplace(result)\n"
     ]
    }
   ],
   "source": [
    "df['gender'].replace(to_replace=['Male', 'Female', 'Other'], value=[0, 1, 2], inplace=True)\n",
    "df['ever_married'].replace(to_replace=['No', 'Yes'], value=[0, 1], inplace=True)\n",
    "df['work_type'].replace(to_replace=['children', 'Govt_job', 'Never_worked', 'Private', 'Self-employed'], value=[0, 1, 2, 3, 4], inplace=True)\n",
    "df['Residence_type'].replace(to_replace=['Rural', 'Urban'], value=[0, 1], inplace=True)\n",
    "df['smoking_status'].replace(to_replace=['formerly smoked', 'never smoked', 'smokes', 'Unknown'], value=[0, 1, 2, 3], inplace=True)\n"
   ]
  },
  {
   "cell_type": "markdown",
   "id": "02aa08f1",
   "metadata": {},
   "source": [
    "#### Check if the values have been replaced"
   ]
  },
  {
   "cell_type": "code",
   "execution_count": 10,
   "id": "1e35f841",
   "metadata": {},
   "outputs": [
    {
     "data": {
      "text/html": [
       "<div>\n",
       "<style scoped>\n",
       "    .dataframe tbody tr th:only-of-type {\n",
       "        vertical-align: middle;\n",
       "    }\n",
       "\n",
       "    .dataframe tbody tr th {\n",
       "        vertical-align: top;\n",
       "    }\n",
       "\n",
       "    .dataframe thead th {\n",
       "        text-align: right;\n",
       "    }\n",
       "</style>\n",
       "<table border=\"1\" class=\"dataframe\">\n",
       "  <thead>\n",
       "    <tr style=\"text-align: right;\">\n",
       "      <th></th>\n",
       "      <th>id</th>\n",
       "      <th>gender</th>\n",
       "      <th>age</th>\n",
       "      <th>hypertension</th>\n",
       "      <th>heart_disease</th>\n",
       "      <th>ever_married</th>\n",
       "      <th>work_type</th>\n",
       "      <th>Residence_type</th>\n",
       "      <th>avg_glucose_level</th>\n",
       "      <th>bmi</th>\n",
       "      <th>smoking_status</th>\n",
       "      <th>stroke</th>\n",
       "    </tr>\n",
       "  </thead>\n",
       "  <tbody>\n",
       "    <tr>\n",
       "      <th>0</th>\n",
       "      <td>9046</td>\n",
       "      <td>0</td>\n",
       "      <td>67.0</td>\n",
       "      <td>0</td>\n",
       "      <td>1</td>\n",
       "      <td>1</td>\n",
       "      <td>3</td>\n",
       "      <td>1</td>\n",
       "      <td>228.69</td>\n",
       "      <td>36.6</td>\n",
       "      <td>0</td>\n",
       "      <td>1</td>\n",
       "    </tr>\n",
       "    <tr>\n",
       "      <th>2</th>\n",
       "      <td>31112</td>\n",
       "      <td>0</td>\n",
       "      <td>80.0</td>\n",
       "      <td>0</td>\n",
       "      <td>1</td>\n",
       "      <td>1</td>\n",
       "      <td>3</td>\n",
       "      <td>0</td>\n",
       "      <td>105.92</td>\n",
       "      <td>32.5</td>\n",
       "      <td>1</td>\n",
       "      <td>1</td>\n",
       "    </tr>\n",
       "    <tr>\n",
       "      <th>3</th>\n",
       "      <td>60182</td>\n",
       "      <td>1</td>\n",
       "      <td>49.0</td>\n",
       "      <td>0</td>\n",
       "      <td>0</td>\n",
       "      <td>1</td>\n",
       "      <td>3</td>\n",
       "      <td>1</td>\n",
       "      <td>171.23</td>\n",
       "      <td>34.4</td>\n",
       "      <td>2</td>\n",
       "      <td>1</td>\n",
       "    </tr>\n",
       "    <tr>\n",
       "      <th>4</th>\n",
       "      <td>1665</td>\n",
       "      <td>1</td>\n",
       "      <td>79.0</td>\n",
       "      <td>1</td>\n",
       "      <td>0</td>\n",
       "      <td>1</td>\n",
       "      <td>4</td>\n",
       "      <td>0</td>\n",
       "      <td>174.12</td>\n",
       "      <td>24.0</td>\n",
       "      <td>1</td>\n",
       "      <td>1</td>\n",
       "    </tr>\n",
       "    <tr>\n",
       "      <th>5</th>\n",
       "      <td>56669</td>\n",
       "      <td>0</td>\n",
       "      <td>81.0</td>\n",
       "      <td>0</td>\n",
       "      <td>0</td>\n",
       "      <td>1</td>\n",
       "      <td>3</td>\n",
       "      <td>1</td>\n",
       "      <td>186.21</td>\n",
       "      <td>29.0</td>\n",
       "      <td>0</td>\n",
       "      <td>1</td>\n",
       "    </tr>\n",
       "    <tr>\n",
       "      <th>...</th>\n",
       "      <td>...</td>\n",
       "      <td>...</td>\n",
       "      <td>...</td>\n",
       "      <td>...</td>\n",
       "      <td>...</td>\n",
       "      <td>...</td>\n",
       "      <td>...</td>\n",
       "      <td>...</td>\n",
       "      <td>...</td>\n",
       "      <td>...</td>\n",
       "      <td>...</td>\n",
       "      <td>...</td>\n",
       "    </tr>\n",
       "    <tr>\n",
       "      <th>5104</th>\n",
       "      <td>14180</td>\n",
       "      <td>1</td>\n",
       "      <td>13.0</td>\n",
       "      <td>0</td>\n",
       "      <td>0</td>\n",
       "      <td>0</td>\n",
       "      <td>0</td>\n",
       "      <td>0</td>\n",
       "      <td>103.08</td>\n",
       "      <td>18.6</td>\n",
       "      <td>3</td>\n",
       "      <td>0</td>\n",
       "    </tr>\n",
       "    <tr>\n",
       "      <th>5106</th>\n",
       "      <td>44873</td>\n",
       "      <td>1</td>\n",
       "      <td>81.0</td>\n",
       "      <td>0</td>\n",
       "      <td>0</td>\n",
       "      <td>1</td>\n",
       "      <td>4</td>\n",
       "      <td>1</td>\n",
       "      <td>125.20</td>\n",
       "      <td>40.0</td>\n",
       "      <td>1</td>\n",
       "      <td>0</td>\n",
       "    </tr>\n",
       "    <tr>\n",
       "      <th>5107</th>\n",
       "      <td>19723</td>\n",
       "      <td>1</td>\n",
       "      <td>35.0</td>\n",
       "      <td>0</td>\n",
       "      <td>0</td>\n",
       "      <td>1</td>\n",
       "      <td>4</td>\n",
       "      <td>0</td>\n",
       "      <td>82.99</td>\n",
       "      <td>30.6</td>\n",
       "      <td>1</td>\n",
       "      <td>0</td>\n",
       "    </tr>\n",
       "    <tr>\n",
       "      <th>5108</th>\n",
       "      <td>37544</td>\n",
       "      <td>0</td>\n",
       "      <td>51.0</td>\n",
       "      <td>0</td>\n",
       "      <td>0</td>\n",
       "      <td>1</td>\n",
       "      <td>3</td>\n",
       "      <td>0</td>\n",
       "      <td>166.29</td>\n",
       "      <td>25.6</td>\n",
       "      <td>0</td>\n",
       "      <td>0</td>\n",
       "    </tr>\n",
       "    <tr>\n",
       "      <th>5109</th>\n",
       "      <td>44679</td>\n",
       "      <td>1</td>\n",
       "      <td>44.0</td>\n",
       "      <td>0</td>\n",
       "      <td>0</td>\n",
       "      <td>1</td>\n",
       "      <td>1</td>\n",
       "      <td>1</td>\n",
       "      <td>85.28</td>\n",
       "      <td>26.2</td>\n",
       "      <td>3</td>\n",
       "      <td>0</td>\n",
       "    </tr>\n",
       "  </tbody>\n",
       "</table>\n",
       "<p>4909 rows × 12 columns</p>\n",
       "</div>"
      ],
      "text/plain": [
       "         id  gender   age  hypertension  heart_disease  ever_married  \\\n",
       "0      9046       0  67.0             0              1             1   \n",
       "2     31112       0  80.0             0              1             1   \n",
       "3     60182       1  49.0             0              0             1   \n",
       "4      1665       1  79.0             1              0             1   \n",
       "5     56669       0  81.0             0              0             1   \n",
       "...     ...     ...   ...           ...            ...           ...   \n",
       "5104  14180       1  13.0             0              0             0   \n",
       "5106  44873       1  81.0             0              0             1   \n",
       "5107  19723       1  35.0             0              0             1   \n",
       "5108  37544       0  51.0             0              0             1   \n",
       "5109  44679       1  44.0             0              0             1   \n",
       "\n",
       "      work_type  Residence_type  avg_glucose_level   bmi  smoking_status  \\\n",
       "0             3               1             228.69  36.6               0   \n",
       "2             3               0             105.92  32.5               1   \n",
       "3             3               1             171.23  34.4               2   \n",
       "4             4               0             174.12  24.0               1   \n",
       "5             3               1             186.21  29.0               0   \n",
       "...         ...             ...                ...   ...             ...   \n",
       "5104          0               0             103.08  18.6               3   \n",
       "5106          4               1             125.20  40.0               1   \n",
       "5107          4               0              82.99  30.6               1   \n",
       "5108          3               0             166.29  25.6               0   \n",
       "5109          1               1              85.28  26.2               3   \n",
       "\n",
       "      stroke  \n",
       "0          1  \n",
       "2          1  \n",
       "3          1  \n",
       "4          1  \n",
       "5          1  \n",
       "...      ...  \n",
       "5104       0  \n",
       "5106       0  \n",
       "5107       0  \n",
       "5108       0  \n",
       "5109       0  \n",
       "\n",
       "[4909 rows x 12 columns]"
      ]
     },
     "execution_count": 10,
     "metadata": {},
     "output_type": "execute_result"
    }
   ],
   "source": [
    "df"
   ]
  },
  {
   "cell_type": "markdown",
   "id": "8ba3ccab",
   "metadata": {},
   "source": [
    "- Categorical values must be converted to numerical values before giving the data to the model."
   ]
  },
  {
   "cell_type": "markdown",
   "id": "96a2a614",
   "metadata": {},
   "source": [
    "## Data visualization"
   ]
  },
  {
   "cell_type": "markdown",
   "id": "972f3df4",
   "metadata": {},
   "source": [
    "### Stroke / Age"
   ]
  },
  {
   "cell_type": "code",
   "execution_count": 11,
   "id": "956d506e",
   "metadata": {},
   "outputs": [
    {
     "data": {
      "image/png": "[encoded data removed]",
      "text/plain": [
       "<Figure size 1440x360 with 1 Axes>"
      ]
     },
     "metadata": {},
     "output_type": "display_data"
    }
   ],
   "source": [
    "plt.figure(figsize=(20,5))\n",
    "str=df.loc[df['stroke']==1]\n",
    "sns.countplot(data=str, x='age');"
   ]
  },
  {
   "cell_type": "markdown",
   "id": "075c6ab2",
   "metadata": {},
   "source": [
    "- Strokes occur more frequently in older ages."
   ]
  },
  {
   "cell_type": "markdown",
   "id": "65697e24",
   "metadata": {},
   "source": [
    "### Stroke / Gender"
   ]
  },
  {
   "cell_type": "code",
   "execution_count": 12,
   "id": "2a8ace85",
   "metadata": {},
   "outputs": [
    {
     "data": {
      "image/png": "[encoded data removed]",
      "text/plain": [
       "<Figure size 360x360 with 1 Axes>"
      ]
     },
     "metadata": {},
     "output_type": "display_data"
    }
   ],
   "source": [
    "plt.figure(figsize=(5,5))\n",
    "str=df.loc[df['stroke']==1]\n",
    "sns.countplot(data=str, x='gender');"
   ]
  },
  {
   "cell_type": "markdown",
   "id": "baf17ff0",
   "metadata": {},
   "source": [
    "- Strokes occurred more frequently in females compared to males."
   ]
  },
  {
   "cell_type": "markdown",
   "id": "db2f3b7c",
   "metadata": {},
   "source": [
    "### Stroke / Heart Disease"
   ]
  },
  {
   "cell_type": "code",
   "execution_count": 13,
   "id": "7d577324",
   "metadata": {},
   "outputs": [
    {
     "data": {
      "image/png": "[encoded data removed]",
      "text/plain": [
       "<Figure size 360x360 with 1 Axes>"
      ]
     },
     "metadata": {},
     "output_type": "display_data"
    }
   ],
   "source": [
    "plt.figure(figsize=(5,5))\n",
    "str=df.loc[df['stroke']==1]\n",
    "sns.countplot(data=str, x='heart_disease');"
   ]
  },
  {
   "cell_type": "markdown",
   "id": "adfbd46b",
   "metadata": {},
   "source": [
    "- Patients without history of heart diseases have gotten more strokes."
   ]
  },
  {
   "cell_type": "markdown",
   "id": "a9baffa0",
   "metadata": {},
   "source": [
    "### Stroke / Hypertension"
   ]
  },
  {
   "cell_type": "code",
   "execution_count": 14,
   "id": "11f25e92",
   "metadata": {},
   "outputs": [
    {
     "data": {
      "image/png": "[encoded data removed]",
      "text/plain": [
       "<Figure size 360x360 with 1 Axes>"
      ]
     },
     "metadata": {},
     "output_type": "display_data"
    }
   ],
   "source": [
    "plt.figure(figsize=(5,5))\n",
    "str=df.loc[df['stroke']==1]\n",
    "sns.countplot(data=str, x='hypertension');"
   ]
  },
  {
   "cell_type": "markdown",
   "id": "594798a9",
   "metadata": {},
   "source": [
    "- Patients without hypertension have gotten more strokes."
   ]
  },
  {
   "cell_type": "markdown",
   "id": "b267ae86",
   "metadata": {},
   "source": [
    "### Stroke / Smoking Status"
   ]
  },
  {
   "cell_type": "code",
   "execution_count": 15,
   "id": "c490d2f1",
   "metadata": {},
   "outputs": [
    {
     "data": {
      "image/png": "[encoded data removed]",
      "text/plain": [
       "<Figure size 360x360 with 1 Axes>"
      ]
     },
     "metadata": {},
     "output_type": "display_data"
    }
   ],
   "source": [
    "plt.figure(figsize=(5,5))\n",
    "str=df.loc[df['stroke']==1]\n",
    "sns.countplot(data=str, x='smoking_status');"
   ]
  },
  {
   "cell_type": "markdown",
   "id": "454a97b4",
   "metadata": {},
   "source": [
    "- Those who have formerly smoked and are currently smokers have suffered more strokes compared to those who have never smoked."
   ]
  },
  {
   "cell_type": "markdown",
   "id": "840d316e",
   "metadata": {},
   "source": [
    "## Classification model: Logistic Regression"
   ]
  },
  {
   "cell_type": "markdown",
   "id": "936f1109",
   "metadata": {},
   "source": [
    "- The Logistic Regression model was chosen in order to conduct analysis to our dependent variables. It was used to analyze the relationship between dependent variables such as the relationship of having a heart disease, smoking, etc. with a stroke occuring."
   ]
  },
  {
   "cell_type": "markdown",
   "id": "3f9d9acf",
   "metadata": {},
   "source": [
    "#### Extract the feature columns for X, and the label column for y"
   ]
  },
  {
   "cell_type": "code",
   "execution_count": 16,
   "id": "f4af4d41",
   "metadata": {},
   "outputs": [
    {
     "name": "stdout",
     "output_type": "stream",
     "text": [
      "(4909, 11)\n",
      "(4909,)\n"
     ]
    }
   ],
   "source": [
    "X = df.drop(['stroke'], axis=1).values \n",
    "y = df['stroke'].values\n",
    "\n",
    "print(X.shape)\n",
    "print(y.shape)"
   ]
  },
  {
   "cell_type": "markdown",
   "id": "e0aba694",
   "metadata": {},
   "source": [
    "#### Split the dataset into train and test sets"
   ]
  },
  {
   "cell_type": "code",
   "execution_count": 17,
   "id": "7c02d88d",
   "metadata": {},
   "outputs": [],
   "source": [
    "X_train, X_test, y_train, y_test = train_test_split(X, y, test_size=0.5)"
   ]
  },
  {
   "cell_type": "markdown",
   "id": "8f15cca5",
   "metadata": {},
   "source": [
    "#### Building a LogisticRegression model"
   ]
  },
  {
   "cell_type": "code",
   "execution_count": 18,
   "id": "360c5735",
   "metadata": {},
   "outputs": [],
   "source": [
    "logistic_regression = LogisticRegression()"
   ]
  },
  {
   "cell_type": "markdown",
   "id": "921b4af9",
   "metadata": {},
   "source": [
    "#### Run predictions on the train set, get the accuracy"
   ]
  },
  {
   "cell_type": "code",
   "execution_count": 19,
   "id": "1e179b8d",
   "metadata": {},
   "outputs": [
    {
     "name": "stdout",
     "output_type": "stream",
     "text": [
      "Accuracy:  95.2322738386308\n"
     ]
    }
   ],
   "source": [
    "predictions_train = logistic_regression.fit(X_train, y_train).predict(X_train)\n",
    "print(\"Accuracy: \", logistic_regression.score(X_train, y_train)*100)"
   ]
  },
  {
   "cell_type": "markdown",
   "id": "2cdaef2f",
   "metadata": {},
   "source": [
    "#### Run predictions on the test set, get the accuracy of model"
   ]
  },
  {
   "cell_type": "code",
   "execution_count": 20,
   "id": "c5f75dc9",
   "metadata": {},
   "outputs": [
    {
     "name": "stdout",
     "output_type": "stream",
     "text": [
      "Accuracy:  95.9266802443992\n"
     ]
    }
   ],
   "source": [
    "predictions = logistic_regression.predict(X_test)\n",
    "lr_accuracy = logistic_regression.score(X_test, y_test)\n",
    "print(\"Accuracy: \", lr_accuracy*100)"
   ]
  },
  {
   "cell_type": "markdown",
   "id": "a6f1b1eb",
   "metadata": {},
   "source": [
    "- The Logistic Regression model has an accuracy of 95.93 percent."
   ]
  },
  {
   "cell_type": "code",
   "execution_count": 21,
   "id": "d01f4891",
   "metadata": {},
   "outputs": [
    {
     "name": "stdout",
     "output_type": "stream",
     "text": [
      "              precision    recall  f1-score   support\n",
      "\n",
      "           0       0.96      1.00      0.98      2358\n",
      "           1       0.29      0.02      0.04        97\n",
      "\n",
      "    accuracy                           0.96      2455\n",
      "   macro avg       0.62      0.51      0.51      2455\n",
      "weighted avg       0.93      0.96      0.94      2455\n",
      "\n",
      "[[2353    5]\n",
      " [  95    2]]\n"
     ]
    }
   ],
   "source": [
    "print(classification_report(y_test, predictions))\n",
    "print(confusion_matrix(y_test, predictions))"
   ]
  },
  {
   "cell_type": "markdown",
   "id": "90cd02fc",
   "metadata": {},
   "source": [
    "- Classification report: As seen from the precision, recall, and most importantly, the f1-score, the model is more accurate in predicting negative cases rather than positive cases.\n",
    "- Confusion matrix: 2353 negative cases were predicted correctly, with only 95 false negatives. 5 positive cases were predicted correctly, with only 2 false positives."
   ]
  },
  {
   "cell_type": "code",
   "execution_count": 22,
   "id": "dd7d2193",
   "metadata": {},
   "outputs": [
    {
     "data": {
      "text/plain": [
       "array([[-1.25615981e-05, -5.29462736e-03,  4.36073906e-02,\n",
       "         2.46536999e-03,  1.99031876e-03, -8.24276923e-04,\n",
       "        -1.18329163e-02, -3.70505654e-03,  3.31356553e-03,\n",
       "        -1.79239378e-01, -2.16788097e-02]])"
      ]
     },
     "execution_count": 22,
     "metadata": {},
     "output_type": "execute_result"
    }
   ],
   "source": [
    "logistic_regression.coef_"
   ]
  },
  {
   "cell_type": "markdown",
   "id": "01285d68",
   "metadata": {},
   "source": [
    "# Conclusion"
   ]
  },
  {
   "cell_type": "markdown",
   "id": "3571919d",
   "metadata": {},
   "source": [
    "After training the model, a classification report and a confusion matrix was generated, from the two, it is seen that the model is more accurate in predicting negative cases than positive cases. Further more, when looking into the model's coefficients, the model assigned the most weight on hypertension and heart disease. Though the dataset is not standardized, both hypertension and heart disease have the same amount of possible values (0 and 1), thus we can conclude that among these two features, hypertension is a more important feature than heart disease. We can also conclude that a person having hypertension or heart disease can increase that person's risk of having stroke.\n",
    "\n",
    "- What is the relationship between history of heart disease and strokes?\n",
    "\n",
    "It can increase the risk of a stroke occurring.\n",
    "    \n",
    "- What is the relationship between smoking and strokes?\n",
    "\n",
    "Those who have formerly smoked or are currently smoking have suffered more strokes compared to non-smokers.\n",
    "\n",
    "- What is the relationship between age and strokes?\n",
    "\n",
    "Strokes occur more frequently in older ages.\n",
    "\n",
    "- What is the likelihood of being able to predict a stroke given several factors?\n",
    "\n",
    "Using a logistic regression model, there is a 95.92 percent chance of predicting a stroke."
   ]
  },
  {
   "cell_type": "markdown",
   "id": "d67216a5",
   "metadata": {},
   "source": [
    "# Recommendations"
   ]
  },
  {
   "cell_type": "markdown",
   "id": "a2786a3e",
   "metadata": {},
   "source": [
    "- It is recommended to use another set or upsample the current dataset, as it is heavily unbalanced. Most of the rows contain patients who have not had a stroke.\n",
    "- Creating other classification models to possibly get a higher accuracy in predicting strokes.\n",
    "- Standardize the dataset to more easily determine feature importance."
   ]
  },
  {
   "cell_type": "markdown",
   "id": "d6be3895",
   "metadata": {},
   "source": [
    "## References\n",
    "\n",
    "About stroke. www.stroke.org. (n.d.). Retrieved July 6, 2022, from https://www.stroke.org/en/about-stroke \n",
    "\n",
    "Centers for Disease Control and Prevention. (2022, June 14). Stroke. Centers for Disease Control and Prevention. Retrieved July 6, 2022, from https://www.cdc.gov/stroke/index.htm \n",
    "\n",
    "Pietrangelo, A. (2019, July 10). The top 10 deadliest diseases in the world. Healthline. Retrieved July 6, 2022, from https://www.healthline.com/health/top-10-deadliest-diseases \n",
    "\n",
    "Tuan, J. (2021, May 12). How AI is able to predict and detect a stroke. ReferralMD. Retrieved July 6, 2022, from https://getreferralmd.com/2019/10/how-ai-is-able-to-predict-and-detect-a-stroke/\n",
    "\n",
    "Singh, P. K. (2020, October 29). World stroke day. World Health Organization. Retrieved July 6, 2022, from https://www.who.int/southeastasia/news/detail/29-10-2020-world-stroke-day-ms\n",
    "\n",
    "Stroke: Every minute counts. Harvard Health. (2013, August 1). Retrieved July 6, 2022, from https://www.health.harvard.edu/heart-health/stroke-every-minute-counts "
   ]
  }
 ],
 "metadata": {
  "kernelspec": {
   "display_name": "Python 3 (ipykernel)",
   "language": "python",
   "name": "python3"
  },
  "language_info": {
   "codemirror_mode": {
    "name": "ipython",
    "version": 3
   },
   "file_extension": ".py",
   "mimetype": "text/x-python",
   "name": "python",
   "nbconvert_exporter": "python",
   "pygments_lexer": "ipython3",
   "version": "3.9.7"
  }
 },
 "nbformat": 4,
 "nbformat_minor": 5
}
